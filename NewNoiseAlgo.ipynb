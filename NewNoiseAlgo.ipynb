{
 "cells": [
  {
   "cell_type": "code",
   "execution_count": 183,
   "id": "498a2110-79e4-4365-8c89-f0b600cd38fc",
   "metadata": {},
   "outputs": [],
   "source": [
    "from random import sample\n",
    "def noise_algorithm(text, numNoiseData):\n",
    "    #print(text)\n",
    "    text = swap_characters(text, numNoiseData)\n",
    "    #print(\"Text after swaps :\", text)\n",
    "    text = delete_words(text,numNoiseData)\n",
    "    #print(\"Text after deletions :\", text)\n",
    "    text = addCommonWords(text, numNoiseData)\n",
    "    #print(\"Text after added words :\", text)\n",
    "    return text"
   ]
  },
  {
   "cell_type": "code",
   "execution_count": 184,
   "id": "0084928e-f6d6-4045-8928-8bcc39617241",
   "metadata": {},
   "outputs": [],
   "source": [
    "def delete_words(text, numDeletions):\n",
    "    textArr = text.split(' ')\n",
    "    sequence = [i for i in range(len(textArr))]\n",
    "    indices = sample(sequence, numDeletions)\n",
    "    indices = sorted(indices)\n",
    "    #print(indices)\n",
    "    #print(textArr, sequence, indices)\n",
    "    newText = \"\"\n",
    "    deletionIndex = 0\n",
    "    for i in range(len(textArr)):\n",
    "        if deletionIndex >= len(indices) or i != indices[deletionIndex]:\n",
    "            newText += textArr[i] + \" \"\n",
    "        else:\n",
    "            deletionIndex += 1\n",
    "    return newText"
   ]
  },
  {
   "cell_type": "code",
   "execution_count": 193,
   "id": "7de3243c-cb45-4ff7-b62b-901c5a7ac20d",
   "metadata": {},
   "outputs": [],
   "source": [
    "def swap_characters(text, numSwaps):\n",
    "    textArr = text.split(' ')\n",
    "    #print(textArr)\n",
    "    sequence = [i for i in range(len(textArr))]\n",
    "    indices = sample(sequence, numSwaps)\n",
    "    indices = sorted(indices) #words whose characters we'll swap\n",
    "    #print(textArr, sequence, indices)\n",
    "    indicesInd = 0\n",
    "    newText = \"\"\n",
    "    for i in range(len(textArr)):\n",
    "        #index = indices[indicesInd]\n",
    "        if (indicesInd < len(indices) and i == indices[indicesInd]):\n",
    "            index = indices[indicesInd]\n",
    "            #print(\"HI\")\n",
    "            word = textArr[i]\n",
    "            wordSeq = [i for i in range(len(word))]\n",
    "            #print(wordSeq)\\\n",
    "            if (len(wordSeq) == 2):\n",
    "                word = swap_string(word, wordSeq)\n",
    "            else:\n",
    "                #print(word, wordSeq)\n",
    "                wordIndices = sample(wordSeq, 2)\n",
    "                word = swap_string(word, wordIndices)\n",
    "            #temp = word[wordIndices[0]]\n",
    "            #word[wordIndices[0]] = word[wordIndices[1]]\n",
    "            #word[wordIndices[1]] = temp\n",
    "            #word[wordIndices[0]], word[wordIndices[1]] = word[wordIndices[1]], word[wordIndices[0]]\n",
    "            newText += word + \" \"\n",
    "            indicesInd += 1\n",
    "        else:\n",
    "            #print(\"HI2\")\n",
    "            newText += textArr[i] + \" \"\n",
    "    return newText"
   ]
  },
  {
   "cell_type": "code",
   "execution_count": 194,
   "id": "229e7903-9aaa-4ecd-b1b9-ca54019d7856",
   "metadata": {},
   "outputs": [],
   "source": [
    "def swap_string(string, inds):\n",
    "    #string = \"hello world\"  \n",
    "    # Convert string to list of characters  \n",
    "    char_list = list(string)  \n",
    "    # Swap characters at index 2 and index 6  \n",
    "    char_list[inds[0]], char_list[inds[1]] = char_list[inds[1]], char_list[inds[0]]  \n",
    "    # Convert list back to string  \n",
    "    new_string = \"\".join(char_list)  \n",
    "    # Output new string  \n",
    "    return new_string "
   ]
  },
  {
   "cell_type": "code",
   "execution_count": 196,
   "id": "717558a7-02d1-4d49-9a52-b4b10c33c6a3",
   "metadata": {},
   "outputs": [],
   "source": [
    "def addCommonWords(text, numNoiseDesired):\n",
    "    typoFile = open(\"CommonWords.txt\", \"r\")\n",
    "    content = typoFile.read()\n",
    "    arr = content.split('\\n')\n",
    "    #print(arr)\n",
    "    #newArr = sample(sequence, numTyposDesired)\n",
    "    newArr = []\n",
    "    for i in range(len(arr)):\n",
    "        #print(word)\n",
    "        word = arr[i]\n",
    "        if len(word) > 0 and word[0] != '$':\n",
    "            newArr.append(word)\n",
    "    #print(newArr)\n",
    "    sequence = [i for i in range(len(newArr))]\n",
    "    indices = sample(sequence, numNoiseDesired)\n",
    "    textArr = text.split(' ')\n",
    "    sequence = [i for i in range(len(textArr))]\n",
    "    positionsInText = sample(sequence, numNoiseDesired)\n",
    "    finalArr = textArr\n",
    "    posIndex = 0\n",
    "    for index in indices:\n",
    "        finalArr.insert(positionsInText[posIndex], newArr[index])\n",
    "        posIndex += 1\n",
    "    return \" \".join(finalArr)"
   ]
  }
 ],
 "metadata": {
  "kernelspec": {
   "display_name": "Python 3 (ipykernel)",
   "language": "python",
   "name": "python3"
  },
  "language_info": {
   "codemirror_mode": {
    "name": "ipython",
    "version": 3
   },
   "file_extension": ".py",
   "mimetype": "text/x-python",
   "name": "python",
   "nbconvert_exporter": "python",
   "pygments_lexer": "ipython3",
   "version": "3.10.0"
  }
 },
 "nbformat": 4,
 "nbformat_minor": 5
}
