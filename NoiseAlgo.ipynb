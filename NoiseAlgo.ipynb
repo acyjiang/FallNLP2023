{
 "cells": [
  {
   "cell_type": "code",
   "execution_count": 50,
   "id": "1e3cb8a4",
   "metadata": {},
   "outputs": [],
   "source": [
    "from random import sample\n",
    "def noise_algorithm(text, numNoiseDesired):\n",
    "    #addNoise(text, \"typos.txt\")\n",
    "    typosText = \" \".join(addNoise(text, \"typos.txt\", numNoiseDesired))\n",
    "    dirtyWordsText = \" \".join(addNoise(typosText, \"dirtyWordsList.txt\", numNoiseDesired))\n",
    "    spanishText = \" \".join(addNoise(dirtyWordsText, \"Spanish.txt\", numNoiseDesired))\n",
    "    germanText = \" \".join(addNoise(spanishText, \"German.txt\", numNoiseDesired))\n",
    "    #return text + \" \" + typosText + \" \" + dirtyWordsText + \" \" + spanishText + \" \" + germanText\n",
    "    return germanText"
   ]
  },
  {
   "cell_type": "code",
   "execution_count": 45,
   "id": "b3ed8495",
   "metadata": {},
   "outputs": [],
   "source": [
    "from random import sample\n",
    "def addNoise(text, noiseText, numNoiseDesired):\n",
    "    typoFile = open(noiseText, \"r\")\n",
    "    content = typoFile.read()\n",
    "    arr = content.split('\\n')\n",
    "    #print(arr)\n",
    "    #newArr = sample(sequence, numTyposDesired)\n",
    "    newArr = []\n",
    "    for i in range(len(arr)):\n",
    "        #print(word)\n",
    "        word = arr[i]\n",
    "        if len(word) > 0 and word[0] != '$':\n",
    "            newArr.append(word)\n",
    "    #print(newArr)\n",
    "    sequence = [i for i in range(len(newArr))]\n",
    "    indices = sample(sequence, numNoiseDesired)\n",
    "    textArr = text.split(' ')\n",
    "    sequence = [i for i in range(len(textArr))]\n",
    "    positionsInText = sample(sequence, numNoiseDesired)\n",
    "    finalArr = textArr\n",
    "    posIndex = 0\n",
    "    for index in indices:\n",
    "        finalArr.insert(positionsInText[posIndex], newArr[index])\n",
    "        posIndex += 1\n",
    "    return finalArr"
   ]
  }
 ],
 "metadata": {
  "kernelspec": {
   "display_name": "Python 3 (ipykernel)",
   "language": "python",
   "name": "python3"
  },
  "language_info": {
   "codemirror_mode": {
    "name": "ipython",
    "version": 3
   },
   "file_extension": ".py",
   "mimetype": "text/x-python",
   "name": "python",
   "nbconvert_exporter": "python",
   "pygments_lexer": "ipython3",
   "version": "3.10.0"
  }
 },
 "nbformat": 4,
 "nbformat_minor": 5
}
